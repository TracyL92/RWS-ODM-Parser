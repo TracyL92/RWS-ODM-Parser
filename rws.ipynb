{
 "cells": [
  {
   "cell_type": "markdown",
   "metadata": {},
   "source": [
    "# Example of rwslib\n",
    "\n",
    "## Setup\n",
    "Installation can be done with pip."
   ]
  },
  {
   "cell_type": "code",
   "execution_count": null,
   "metadata": {},
   "outputs": [],
   "source": [
    "#$ pip install rwslib"
   ]
  },
  {
   "cell_type": "markdown",
   "metadata": {},
   "source": [
    "## rws_request\n",
    "### Version Request"
   ]
  },
  {
   "cell_type": "code",
   "execution_count": 1,
   "metadata": {},
   "outputs": [
    {
     "data": {
      "text/plain": [
       "'1.16.0'"
      ]
     },
     "execution_count": 1,
     "metadata": {},
     "output_type": "execute_result"
    }
   ],
   "source": [
    "from rwslib import RWSConnection\n",
    "from rwslib.rws_requests import VersionRequest\n",
    "rws = RWSConnection('https://sunovion-q.mdsol.com', 'SUN_External','password1*')\n",
    "rws.send_request(VersionRequest())"
   ]
  },
  {
   "cell_type": "markdown",
   "metadata": {},
   "source": [
    "### Build Version Request"
   ]
  },
  {
   "cell_type": "code",
   "execution_count": 13,
   "metadata": {},
   "outputs": [
    {
     "data": {
      "text/plain": [
       "'5.6.5.410'"
      ]
     },
     "execution_count": 13,
     "metadata": {},
     "output_type": "execute_result"
    }
   ],
   "source": [
    "from rwslib import RWSConnection\n",
    "from rwslib.rws_requests import BuildVersionRequest\n",
    "rws = RWSConnection('https://sunovion-q.mdsol.com', 'SUN_External','password1*')\n",
    "rws.send_request(BuildVersionRequest())"
   ]
  },
  {
   "cell_type": "markdown",
   "metadata": {},
   "source": [
    "### Code Name Request"
   ]
  },
  {
   "cell_type": "code",
   "execution_count": 14,
   "metadata": {},
   "outputs": [
    {
     "data": {
      "text/plain": [
       "'Uakari'"
      ]
     },
     "execution_count": 14,
     "metadata": {},
     "output_type": "execute_result"
    }
   ],
   "source": [
    "from rwslib import RWSConnection\n",
    "from rwslib.rws_requests import CodeNameRequest\n",
    "rws = RWSConnection('https://sunovion-q.mdsol.com', 'SUN_External','password1*')\n",
    "rws.send_request(CodeNameRequest())"
   ]
  },
  {
   "cell_type": "markdown",
   "metadata": {},
   "source": [
    "### Diagnostic Request"
   ]
  },
  {
   "cell_type": "code",
   "execution_count": 15,
   "metadata": {},
   "outputs": [
    {
     "data": {
      "text/plain": [
       "'OK'"
      ]
     },
     "execution_count": 15,
     "metadata": {},
     "output_type": "execute_result"
    }
   ],
   "source": [
    "from rwslib import RWSConnection\n",
    "from rwslib.rws_requests import DiagnosticsRequest\n",
    "rws = RWSConnection('https://sunovion-q.mdsol.com', 'SUN_External','password1*')\n",
    "rws.send_request(DiagnosticsRequest())"
   ]
  },
  {
   "cell_type": "markdown",
   "metadata": {},
   "source": [
    "# Working with Clinical Data\n",
    "\n",
    "The rws_requests module provides a number of standard requests which provide lists of clinical studies, extract clinical data (from Rave Clinical Views) and post clinical data to Rave."
   ]
  },
  {
   "cell_type": "markdown",
   "metadata": {},
   "source": [
    "### Clinical Studyies Request"
   ]
  },
  {
   "cell_type": "code",
   "execution_count": 2,
   "metadata": {},
   "outputs": [
    {
     "name": "stdout",
     "output_type": "stream",
     "text": [
      "Number of studies 1\n"
     ]
    }
   ],
   "source": [
    "from rwslib import RWSConnection\n",
    "from rwslib.rws_requests import ClinicalStudiesRequest\n",
    "rws = RWSConnection('https://sunovion-q.mdsol.com', 'SUN_External','password1*')\n",
    "studies = rws.send_request(ClinicalStudiesRequest())\n",
    "print(\"Number of studies \" + str(len(studies)))"
   ]
  },
  {
   "cell_type": "code",
   "execution_count": 3,
   "metadata": {},
   "outputs": [
    {
     "name": "stdout",
     "output_type": "stream",
     "text": [
      "OID D1001066(Prod)\n",
      "Name D1001066\n",
      "protocolname D1001066\n",
      "IsProd? True\n"
     ]
    }
   ],
   "source": [
    "for study in studies:\n",
    "    print('OID', study.oid)\n",
    "    print(\"Name\",study.studyname)\n",
    "    print(\"protocolname\",study.protocolname)\n",
    "    print(\"IsProd?\",study.isProd())\n"
   ]
  },
  {
   "cell_type": "markdown",
   "metadata": {},
   "source": [
    "## Raw data request (Form Level)\n",
    "\n",
    "Study Name, Environment, FormOID=DataPageName"
   ]
  },
  {
   "cell_type": "code",
   "execution_count": 42,
   "metadata": {},
   "outputs": [],
   "source": [
    "from rwslib import RWSConnection\n",
    "from rwslib.rws_requests import StudyDatasetRequest\n",
    "rws = RWSConnection('https://sunovion-q.mdsol.com', 'SUN_External','password1*')\n",
    "ae = rws.send_request(StudyDatasetRequest('D1001066', 'PROD', formoid='AE'))\n",
    "text_file = open(\"ae.xml\", \"w\")\n",
    "text_file.write(ae)\n",
    "text_file.close()"
   ]
  },
  {
   "cell_type": "markdown",
   "metadata": {},
   "source": [
    "## Raw data request (Subject Level)\n",
    "Project, Environment Name, SubjectId, FormOID=DataPageName"
   ]
  },
  {
   "cell_type": "code",
   "execution_count": 39,
   "metadata": {},
   "outputs": [],
   "source": [
    "from rwslib import RWSConnection\n",
    "from rwslib.rws_requests import SubjectDatasetRequest\n",
    "rws = RWSConnection('https://sunovion-q.mdsol.com', 'SUN_External','password1*')\n",
    "subj = rws.send_request(SubjectDatasetRequest('D1001066', 'PROD', '066200001', formoid='SUBJECT'))\n",
    "text_file = open(\"Output.xml\", \"w\")\n",
    "text_file.write(subj)\n",
    "text_file.close()"
   ]
  }
 ],
 "metadata": {
  "kernelspec": {
   "display_name": "Python 3",
   "language": "python",
   "name": "python3"
  },
  "language_info": {
   "codemirror_mode": {
    "name": "ipython",
    "version": 3
   },
   "file_extension": ".py",
   "mimetype": "text/x-python",
   "name": "python",
   "nbconvert_exporter": "python",
   "pygments_lexer": "ipython3",
   "version": "3.6.4"
  }
 },
 "nbformat": 4,
 "nbformat_minor": 2
}
